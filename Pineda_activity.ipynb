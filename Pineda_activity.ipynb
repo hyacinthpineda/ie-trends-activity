{
  "nbformat": 4,
  "nbformat_minor": 0,
  "metadata": {
    "colab": {
      "name": "Pineda_activity.ipynb",
      "provenance": [],
      "authorship_tag": "ABX9TyNPfNbozFbHKpuWbCCAytPw"
    },
    "kernelspec": {
      "name": "python3",
      "display_name": "Python 3"
    },
    "language_info": {
      "name": "python"
    }
  },
  "cells": [
    {
      "cell_type": "code",
      "metadata": {
        "id": "APmuJtAluY8Y"
      },
      "source": [
        ""
      ],
      "execution_count": null,
      "outputs": []
    },
    {
      "cell_type": "markdown",
      "metadata": {
        "id": "OyrfRu09uhCh"
      },
      "source": [
        "# Python Basics\n",
        "This section reviews programming fundamentals using Python."
      ]
    },
    {
      "cell_type": "code",
      "metadata": {
        "id": "4-UakoouumYo"
      },
      "source": [
        "x = 10\n",
        "y = 3.14"
      ],
      "execution_count": null,
      "outputs": []
    },
    {
      "cell_type": "markdown",
      "metadata": {
        "id": "lzhlgTwrvCX-"
      },
      "source": [
        "## Variables"
      ]
    },
    {
      "cell_type": "markdown",
      "metadata": {
        "id": "q1txQk52yV9I"
      },
      "source": [
        "## Printing"
      ]
    },
    {
      "cell_type": "code",
      "metadata": {
        "colab": {
          "base_uri": "https://localhost:8080/"
        },
        "id": "qh-eHV_gvGSN",
        "outputId": "9b7405d8-3e48-41d0-aa2b-7afa41033e69"
      },
      "source": [
        "print(x)\n"
      ],
      "execution_count": null,
      "outputs": [
        {
          "output_type": "stream",
          "text": [
            "10\n"
          ],
          "name": "stdout"
        }
      ]
    },
    {
      "cell_type": "code",
      "metadata": {
        "id": "ZTdWVFASydBW"
      },
      "source": [
        ""
      ],
      "execution_count": null,
      "outputs": []
    },
    {
      "cell_type": "markdown",
      "metadata": {
        "id": "rTAxF-LtzHdY"
      },
      "source": [
        "## Operations"
      ]
    },
    {
      "cell_type": "code",
      "metadata": {
        "colab": {
          "base_uri": "https://localhost:8080/"
        },
        "id": "ZFd1dNf7zJ_O",
        "outputId": "24678274-4e8f-4b8c-a1d2-99707a872180"
      },
      "source": [
        "## Addition (also a comment line\n",
        "z1=x+y\n",
        "## Subtract\n",
        "z2=x-y\n",
        "## Multipication\n",
        "z3= x*y\n",
        "## Division\n",
        "z4= x/y\n"
      ],
      "execution_count": null,
      "outputs": [
        {
          "output_type": "execute_result",
          "data": {
            "text/plain": [
              "-13.719999999999999"
            ]
          },
          "metadata": {
            "tags": []
          },
          "execution_count": 15
        }
      ]
    },
    {
      "cell_type": "markdown",
      "metadata": {
        "id": "FYJ7AYPszMuS"
      },
      "source": [
        "Coding $2^5$"
      ]
    },
    {
      "cell_type": "code",
      "metadata": {
        "colab": {
          "base_uri": "https://localhost:8080/"
        },
        "id": "_KMMkA-r0QAC",
        "outputId": "c6cfc494-e16c-4003-9a1e-be7bf4b54026"
      },
      "source": [
        "## Exponentiation\n",
        "z5 = 2**5\n",
        "## Floor Division\n",
        "z6 = round(19/2)\n",
        "print(z6)\n",
        "## Trigonometric\n",
        "import math\n",
        "# math.sin(y) + math.cos(x)"
      ],
      "execution_count": null,
      "outputs": [
        {
          "output_type": "stream",
          "text": [
            "10\n"
          ],
          "name": "stdout"
        }
      ]
    },
    {
      "cell_type": "markdown",
      "metadata": {
        "id": "d3W3Mcyz1_cy"
      },
      "source": [
        "$sin(y)+cos(x)$"
      ]
    },
    {
      "cell_type": "markdown",
      "metadata": {
        "id": "FEPT5BOG2x9-"
      },
      "source": [
        "#Loops"
      ]
    },
    {
      "cell_type": "markdown",
      "metadata": {
        "id": "5wKwgjJE3zD-"
      },
      "source": [
        "$\\sum_i{sin(i)+\\cos(i+\\pi)} $"
      ]
    },
    {
      "cell_type": "code",
      "metadata": {
        "colab": {
          "base_uri": "https://localhost:8080/"
        },
        "id": "gLtQMAnE0lW2",
        "outputId": "106f784b-b999-406e-8e56-a4a64b195e9d"
      },
      "source": [
        "## Summation\n",
        "tz=0\n",
        "for i in range(0,10):\n",
        "  tz += math.sin(i) + math.cos(i+math.pi)\n",
        "  print(tz)"
      ],
      "execution_count": null,
      "outputs": [
        {
          "output_type": "stream",
          "text": [
            "-1.0\n",
            "-0.6988313210602433\n",
            "0.6266129423125808\n",
            "1.7577254469728933\n",
            "1.6545665725285772\n",
            "0.41198011240221266\n",
            "-0.827605672447079\n",
            "-0.9245213280715947\n",
            "0.2103369523604004\n",
            "1.533585699486834\n"
          ],
          "name": "stdout"
        }
      ]
    },
    {
      "cell_type": "markdown",
      "metadata": {
        "id": "hzDQ8YIm6ED6"
      },
      "source": [
        "# Functions"
      ]
    },
    {
      "cell_type": "markdown",
      "metadata": {
        "id": "bPiXKyR86L1W"
      },
      "source": [
        "$S- i^2$"
      ]
    },
    {
      "cell_type": "code",
      "metadata": {
        "colab": {
          "base_uri": "https://localhost:8080/"
        },
        "id": "xqdjSUyA3Dur",
        "outputId": "edb66ec2-2697-4c05-dc68-827e621b9594"
      },
      "source": [
        "s=0\n",
        "for i in range(0,10):\n",
        "  s+=i\n",
        "  h=s-i**2\n",
        "  print(equation1(s,i))"
      ],
      "execution_count": null,
      "outputs": [
        {
          "output_type": "stream",
          "text": [
            "0\n",
            "0\n",
            "-1\n",
            "-3\n",
            "-6\n",
            "-10\n",
            "-15\n",
            "-21\n",
            "-28\n",
            "-36\n"
          ],
          "name": "stdout"
        }
      ]
    },
    {
      "cell_type": "code",
      "metadata": {
        "id": "T-aQJubV6sfu"
      },
      "source": [
        "def equation1(s,i):\n",
        "  return s-i**2"
      ],
      "execution_count": null,
      "outputs": []
    },
    {
      "cell_type": "code",
      "metadata": {
        "id": "AxZoED546eq2"
      },
      "source": [
        ""
      ],
      "execution_count": null,
      "outputs": []
    }
  ]
}